{
 "cells": [
  {
   "cell_type": "markdown",
   "metadata": {},
   "source": [
    "<h1> Analysis on Data from National Highway Traffic Safety Administration Fatality Analysis Reporting System </h1>"
   ]
  },
  {
   "cell_type": "markdown",
   "metadata": {},
   "source": [
    "The goal of this project is to examine the differences between traffic crash data from 1990 to 2019 to determine if improvement in car safety standards have a correlation with fewer crashes. Some background on this data includes increased regulations in airbag technology and car safety features such as adaptive cruise control, lane keep assist, backup cameras, and aided hands free communication in vehicles. \n",
    "\n",
    "Questions to answer: \n",
    " <br> • Has there been a significant decrease in the total count of car crashes from 1980 to 2019?\n",
    " <br> • Has there been a significant decrease in fatal car accidents between 1980 and 2019?\n",
    " <br> • Where do most crashes occur?\n",
    "     <br>           - Interstate highways, intersections, junctions?\n",
    " <br> • Has the number of drowsy driving incidents decreased from 1990 to 2019?\n",
    " <br> • Does the dirver having previous incidents impact fatal crash likelihood?"
   ]
  },
  {
   "cell_type": "code",
   "execution_count": 64,
   "metadata": {},
   "outputs": [],
   "source": [
    "### these are the packages that were imported to use for analysis and visualization\n",
    "import pandas as pd #for dataframes \n",
    "import numpy as np #arrays\n",
    "import seaborn as sns #for line plots\n",
    "import matplotlib.pyplot as plt #for plots\n",
    "from scipy import stats #for statistical analysis\n",
    "import statsmodels.api as sm "
   ]
  },
  {
   "cell_type": "markdown",
   "metadata": {},
   "source": [
    "<br> STATE = The state where the crash occured \n",
    "<br> HIT_RUN = Whether or not the crash was a hit and run (1=True, 0=False) \n",
    "<br> MAKE = Make of the car \n",
    "<br> MODEL = Model of the car \n",
    "<br> VIN_\"x\" = the vin digits 1-10 of the car \n",
    "<br> ROLLOVER = Whether or not the car rolled over in the accident (1=True, 0=False) \n",
    "<br> J_KNIFE = Whether or not the car jacknifed (1=True, 0=False) \n",
    "<br> TOWAWAY = Whether or not the car had to be towed away (1=True, 0=False) \n",
    "<br> OCUPANTS = Number of ocupants in the vehicle at the time of the accident\n",
    "<br> DEATHS = Number of deaths cased by the accident\n",
    "<br> DR_DRINK = If the driver was drunk or not\n",
    "<br> VIOL_CHG = If the driver has a violent charge\n",
    "<br> PREV_ACC = If the driver had a previous accusation\n",
    "<br> PREV_SUS = If the driver had a previous license suspension \n",
    "<br> PREV_DWI = If the driver had a previous driving under the influence charge\n",
    "<br> PREV_OTH = If the driver had any other previous driving incidents"
   ]
  },
  {
   "cell_type": "code",
   "execution_count": 82,
   "metadata": {},
   "outputs": [
    {
     "name": "stderr",
     "output_type": "stream",
     "text": [
      "/Users/Maajid/opt/anaconda3/lib/python3.8/site-packages/IPython/core/interactiveshell.py:3146: DtypeWarning: Columns (53) have mixed types.Specify dtype option on import or set low_memory=False.\n",
      "  has_raised = await self.run_ast_nodes(code_ast.body, cell_name,\n",
      "/Users/Maajid/opt/anaconda3/lib/python3.8/site-packages/IPython/core/interactiveshell.py:3146: DtypeWarning: Columns (60) have mixed types.Specify dtype option on import or set low_memory=False.\n",
      "  has_raised = await self.run_ast_nodes(code_ast.body, cell_name,\n",
      "/Users/Maajid/opt/anaconda3/lib/python3.8/site-packages/IPython/core/interactiveshell.py:3146: DtypeWarning: Columns (49,50) have mixed types.Specify dtype option on import or set low_memory=False.\n",
      "  has_raised = await self.run_ast_nodes(code_ast.body, cell_name,\n",
      "/Users/Maajid/opt/anaconda3/lib/python3.8/site-packages/IPython/core/interactiveshell.py:3146: DtypeWarning: Columns (36,37) have mixed types.Specify dtype option on import or set low_memory=False.\n",
      "  has_raised = await self.run_ast_nodes(code_ast.body, cell_name,\n",
      "/Users/Maajid/opt/anaconda3/lib/python3.8/site-packages/IPython/core/interactiveshell.py:3146: DtypeWarning: Columns (56,58,193,195) have mixed types.Specify dtype option on import or set low_memory=False.\n",
      "  has_raised = await self.run_ast_nodes(code_ast.body, cell_name,\n"
     ]
    }
   ],
   "source": [
    "#importing data\n",
    "#data retrieved from NHTSA (National Highway Traffic Safety Administration)\n",
    "vehicle_1980_full = pd.read_csv('VEHICLE1980.csv', encoding='ISO-8859-1')\n",
    "vehicle_1985_full = pd.read_csv('VEHICLE1985.csv', encoding='ISO-8859-1')\n",
    "vehicle_1990_full = pd.read_csv('VEHICLE1990.csv', encoding='ISO-8859-1')\n",
    "vehicle_1995_full = pd.read_csv('VEHICLE1995.csv', encoding='ISO-8859-1')\n",
    "vehicle_2000_full = pd.read_csv('VEHICLE2000.csv', encoding='ISO-8859-1')\n",
    "vehicle_2005_full = pd.read_csv('VEHICLE2005.csv', encoding='ISO-8859-1')\n",
    "vehicle_2010_full = pd.read_csv('VEHICLE2010.csv', encoding='ISO-8859-1')\n",
    "vehicle_2015_full = pd.read_csv('Vehicle2015.csv', encoding='ISO-8859-1')\n",
    "vehicle_2019_full = pd.read_csv('Vehicle2019.csv', encoding='ISO-8859-1')"
   ]
  },
  {
   "cell_type": "code",
   "execution_count": 65,
   "metadata": {},
   "outputs": [],
   "source": [
    "#Taking a simple random sample without replacement from each dataframe\n",
    "vehicle_1980 = vehicle_1980_full.sample(n=20000)\n",
    "vehicle_1985 = vehicle_1985_full.sample(n=20000)\n",
    "vehicle_1990 = vehicle_1990_full.sample(n=20000)\n",
    "vehicle_1995 = vehicle_1995_full.sample(n=20000)\n",
    "vehicle_2000 = vehicle_2000_full.sample(n=20000)\n",
    "vehicle_2005 = vehicle_2005_full.sample(n=20000)\n",
    "vehicle_2010 = vehicle_2010_full.sample(n=20000)\n",
    "vehicle_2015 = vehicle_2015_full.sample(n=20000)\n",
    "vehicle_2019 = vehicle_2019_full.sample(n=20000)"
   ]
  },
  {
   "cell_type": "code",
   "execution_count": 66,
   "metadata": {},
   "outputs": [
    {
     "name": "stdout",
     "output_type": "stream",
     "text": [
      "The average number of hit and runs out of all the crashes in 1980 is 0.03065\n",
      "The average number of hit and runs out of all the crashes in 1985 is 0.063\n",
      "The average number of hit and runs out of all the crashes in 1990 is 0.0663\n",
      "The average number of hit and runs out of all the crashes in 1995 is 0.0571\n",
      "The average number of hit and runs out of all the crashes in 2000 is 0.05315\n",
      "The average number of hit and runs out of all the crashes in 2005 is 0.07065\n",
      "The average number of hit and runs out of all the crashes in 2010 is 0.0354\n",
      "The average number of hit and runs out of all the crashes in 2015 is 0.04155\n",
      "The average number of hit and runs out of all the crashes in 2019 is 0.0457\n"
     ]
    }
   ],
   "source": [
    "# Finding the average number of hit and runs for each year between 1980 and 2019\n",
    "hit_1980_avg = np.mean(vehicle_1980['HIT_RUN'])\n",
    "hit_1985_avg = np.mean(vehicle_1985['HIT_RUN'])\n",
    "hit_1990_avg = np.mean(vehicle_1990['HIT_RUN'])\n",
    "hit_1995_avg = np.mean(vehicle_1995['HIT_RUN'])\n",
    "hit_2000_avg = np.mean(vehicle_2000['HIT_RUN'])\n",
    "hit_2005_avg = np.mean(vehicle_2005['HIT_RUN'])\n",
    "hit_2010_avg = np.mean(vehicle_2010['HIT_RUN'])\n",
    "hit_2015_avg = np.mean(vehicle_2015['HIT_RUN'])\n",
    "hit_2019_avg = np.mean(vehicle_2019['HIT_RUN'])\n",
    "print(\"The average number of hit and runs out of all the crashes in 1980 is \" + str(hit_1980_avg))\n",
    "print(\"The average number of hit and runs out of all the crashes in 1985 is \" + str(hit_1985_avg))\n",
    "print(\"The average number of hit and runs out of all the crashes in 1990 is \" + str(hit_1990_avg))\n",
    "print(\"The average number of hit and runs out of all the crashes in 1995 is \" + str(hit_1995_avg))\n",
    "print(\"The average number of hit and runs out of all the crashes in 2000 is \" + str(hit_2000_avg))\n",
    "print(\"The average number of hit and runs out of all the crashes in 2005 is \" + str(hit_2005_avg))\n",
    "print(\"The average number of hit and runs out of all the crashes in 2010 is \" + str(hit_2010_avg))\n",
    "print(\"The average number of hit and runs out of all the crashes in 2015 is \" + str(hit_2015_avg))\n",
    "print(\"The average number of hit and runs out of all the crashes in 2019 is \" + str(hit_2019_avg))"
   ]
  },
  {
   "cell_type": "code",
   "execution_count": 115,
   "metadata": {},
   "outputs": [
    {
     "data": {
      "image/png": "[encoded data removed]",
      "text/plain": [
       "<Figure size 432x288 with 1 Axes>"
      ]
     },
     "metadata": {
      "needs_background": "light"
     },
     "output_type": "display_data"
    }
   ],
   "source": [
    "#looking at the change over time in hit and runs \n",
    "hit_and_run_ot = np.array([hit_1980_avg, hit_1985_avg, hit_1990_avg, hit_1995_avg, \n",
    "                          hit_2000_avg, hit_2005_avg, hit_2010_avg, hit_2015_avg, hit_2019_avg])\n",
    "plt.plot(hit_and_run_ot, linestyle='solid', color=\"Orange\")\n",
    "plt.title('Change in Hit and Run rates from 1980-2019')\n",
    "plt.ylabel('Percent of Hit and Runs out of total crashes')\n",
    "plt.xlabel('Year starting at 1980')\n",
    "plt.show()"
   ]
  },
  {
   "cell_type": "code",
   "execution_count": 86,
   "metadata": {},
   "outputs": [
    {
     "name": "stdout",
     "output_type": "stream",
     "text": [
      "The average number of rollovers out of all the crashes in 1980 is 0.2779\n",
      "The average number of rollovers out of all the crashes in 1985 is 0.25255\n",
      "The average number of rollovers out of all the crashes in 1990 is 0.27505\n",
      "The average number of rollovers out of all the crashes in 1995 is 0.28805\n",
      "The average number of rollovers out of all the crashes in 2000 is 0.30075\n",
      "The average number of rollovers out of all the crashes in 2005 is 0.3231\n",
      "The average number of rollovers out of all the crashes in 2010 is 0.25735\n",
      "The average number of rollovers out of all the crashes in 2015 is 0.23555\n",
      "The average number of rollovers out of all the crashes in 2019 is 0.2371\n"
     ]
    }
   ],
   "source": [
    "# Finding the average number of rollovers from 1980 to 2019\n",
    "roll_1980_avg = np.mean(vehicle_1980['ROLLOVER'])\n",
    "roll_1985_avg = np.mean(vehicle_1985['ROLLOVER'])\n",
    "roll_1990_avg = np.mean(vehicle_1990['ROLLOVER'])\n",
    "roll_1995_avg = np.mean(vehicle_1995['ROLLOVER'])\n",
    "roll_2000_avg = np.mean(vehicle_2000['ROLLOVER'])\n",
    "roll_2005_avg = np.mean(vehicle_2005['ROLLOVER'])\n",
    "roll_2010_avg = np.mean(vehicle_2010['ROLLOVER'])\n",
    "roll_2015_avg = np.mean(vehicle_2015['ROLLOVER'])\n",
    "roll_2019_avg = np.mean(vehicle_2019['ROLLOVER'])\n",
    "print(\"The average number of rollovers out of all the crashes in 1980 is \" + str(roll_1980_avg))\n",
    "print(\"The average number of rollovers out of all the crashes in 1985 is \" + str(roll_1985_avg))\n",
    "print(\"The average number of rollovers out of all the crashes in 1990 is \" + str(roll_1990_avg))\n",
    "print(\"The average number of rollovers out of all the crashes in 1995 is \" + str(roll_1995_avg))\n",
    "print(\"The average number of rollovers out of all the crashes in 2000 is \" + str(roll_2000_avg))\n",
    "print(\"The average number of rollovers out of all the crashes in 2005 is \" + str(roll_2005_avg))\n",
    "print(\"The average number of rollovers out of all the crashes in 2010 is \" + str(roll_2010_avg))\n",
    "print(\"The average number of rollovers out of all the crashes in 2015 is \" + str(roll_2015_avg))\n",
    "print(\"The average number of rollovers out of all the crashes in 2019 is \" + str(roll_2019_avg))"
   ]
  },
  {
   "cell_type": "code",
   "execution_count": 113,
   "metadata": {},
   "outputs": [
    {
     "data": {
      "image/png": "[encoded data removed]",
      "text/plain": [
       "<Figure size 432x288 with 1 Axes>"
      ]
     },
     "metadata": {
      "needs_background": "light"
     },
     "output_type": "display_data"
    }
   ],
   "source": [
    "#looking at the change over time in hit and runs \n",
    "rollover_ot = np.array([roll_1980_avg, roll_1985_avg, roll_1990_avg, roll_1995_avg, \n",
    "                        roll_2000_avg, roll_2005_avg, roll_2010_avg, roll_2015_avg, roll_2019_avg])\n",
    "plt.plot(rollover_ot, linestyle='solid', color=\"blue\")\n",
    "plt.title('Change in rollover rates from 1980-2019')\n",
    "plt.ylabel('Percent of rollovers out of the total crashes')\n",
    "plt.xlabel('Year starting at 1980')\n",
    "plt.show()"
   ]
  },
  {
   "cell_type": "code",
   "execution_count": 106,
   "metadata": {},
   "outputs": [
    {
     "data": {
      "text/plain": [
       "array([13199, 12398, 12434, 12481, 12594, 12560, 12534, 11651, 11324])"
      ]
     },
     "execution_count": 106,
     "metadata": {},
     "output_type": "execute_result"
    }
   ],
   "source": [
    "# Looking at the change of total deaths caused by traffic accidents over time\n",
    "total_deaths_1980 = np.sum(vehicle_1980[\"DEATHS\"])\n",
    "total_deaths_1985 = np.sum(vehicle_1985[\"DEATHS\"])\n",
    "total_deaths_1990 = np.sum(vehicle_1990[\"DEATHS\"])\n",
    "total_deaths_1995 = np.sum(vehicle_1995[\"DEATHS\"])\n",
    "total_deaths_2000 = np.sum(vehicle_2000[\"DEATHS\"])\n",
    "total_deaths_2005 = np.sum(vehicle_2005[\"DEATHS\"])\n",
    "total_deaths_2010 = np.sum(vehicle_2010[\"DEATHS\"])\n",
    "total_deaths_2015 = np.sum(vehicle_2015[\"DEATHS\"])\n",
    "total_deaths_2019 = np.sum(vehicle_2019[\"DEATHS\"])\n",
    "total_deaths_ot = np.array([total_deaths_1980, total_deaths_1985, total_deaths_1990, total_deaths_1995, \n",
    "                           total_deaths_2000, total_deaths_2005, total_deaths_2010, total_deaths_2015, \n",
    "                           total_deaths_2019])\n",
    "total_deaths_ot\n"
   ]
  },
  {
   "cell_type": "code",
   "execution_count": 119,
   "metadata": {},
   "outputs": [
    {
     "data": {
      "image/png": "[encoded data removed]",
      "text/plain": [
       "<Figure size 432x288 with 1 Axes>"
      ]
     },
     "metadata": {
      "needs_background": "light"
     },
     "output_type": "display_data"
    }
   ],
   "source": [
    "plt.plot(total_deaths_ot, linestyle='solid', color=\"red\")\n",
    "plt.title('Total Nubmer of Deaths Caused By Traffic Accidents Over Time')\n",
    "plt.ylabel('Total Number of Deaths')\n",
    "plt.xlabel('Year starting at 1980')\n",
    "plt.show()"
   ]
  },
  {
   "cell_type": "code",
   "execution_count": 124,
   "metadata": {},
   "outputs": [
    {
     "name": "stdout",
     "output_type": "stream",
     "text": [
      "The regression equation is: y = 0.5 + 0.38x.\n"
     ]
    }
   ],
   "source": [
    "import statsmodels.api as sm\n",
    "# Define the explanatory and response variables\n",
    "X = vehicle_2019['DR_DRINK']\n",
    "X = sm.add_constant(X)\n",
    "y = vehicle_2019['DEATHS']\n",
    "\n",
    "# Apply the regression equation\n",
    "model = sm.OLS(y, X).fit()\n",
    "\n",
    "# Determine the regression equation\n",
    "b0 = round(model.params[0], 2)\n",
    "b1 = round(model.params[1], 2)\n",
    "\n",
    "\n",
    "print(\"The regression equation is: y = \" + str(b0) + \" + \" + str(b1) + \"x.\")\n"
   ]
  },
  {
   "cell_type": "markdown",
   "metadata": {},
   "source": [
    "**Interpretation of the regression equqation:**\n",
    "<br> • y: response variable i.e prediction of death count\n",
    "<br> • 0.5: b0 value i.e. the sample intercept \n",
    "<br> \"If there there are no previous driving while drunk charges, the predicted death count is going to be 0.5\"\n",
    "<br> • 0.38: b1 value i.e. the sample slope\n",
    "<br> \"If there is an increase of one driving while drunk charge, the predicted death count increases by 0.38\""
   ]
  },
  {
   "cell_type": "code",
   "execution_count": 123,
   "metadata": {},
   "outputs": [
    {
     "name": "stdout",
     "output_type": "stream",
     "text": [
      "                            OLS Regression Results                            \n",
      "==============================================================================\n",
      "Dep. Variable:                 DEATHS   R-squared:                       0.057\n",
      "Model:                            OLS   Adj. R-squared:                  0.057\n",
      "Method:                 Least Squares   F-statistic:                     1216.\n",
      "Date:                Sun, 13 Feb 2022   Prob (F-statistic):          1.02e-258\n",
      "Time:                        17:46:27   Log-Likelihood:                -17282.\n",
      "No. Observations:               20000   AIC:                         3.457e+04\n",
      "Df Residuals:                   19998   BIC:                         3.458e+04\n",
      "Df Model:                           1                                         \n",
      "Covariance Type:            nonrobust                                         \n",
      "==============================================================================\n",
      "                 coef    std err          t      P>|t|      [0.025      0.975]\n",
      "------------------------------------------------------------------------------\n",
      "const          0.5025      0.004    112.864      0.000       0.494       0.511\n",
      "DR_DRINK       0.3784      0.011     34.873      0.000       0.357       0.400\n",
      "==============================================================================\n",
      "Omnibus:                     3390.232   Durbin-Watson:                   2.012\n",
      "Prob(Omnibus):                  0.000   Jarque-Bera (JB):             8317.671\n",
      "Skew:                           0.953   Prob(JB):                         0.00\n",
      "Kurtosis:                       5.519   Cond. No.                         2.76\n",
      "==============================================================================\n",
      "\n",
      "Notes:\n",
      "[1] Standard Errors assume that the covariance matrix of the errors is correctly specified.\n"
     ]
    }
   ],
   "source": [
    "# t-test and confidence interval for the slope\n",
    "model_output = model.summary()\n",
    "print(model_output)\n"
   ]
  },
  {
   "cell_type": "code",
   "execution_count": 126,
   "metadata": {},
   "outputs": [
    {
     "data": {
      "text/plain": [
       "array([0.65995, 0.6199 , 0.6217 , 0.62405, 0.6297 , 0.628  , 0.6267 ,\n",
       "       0.58255, 0.5662 ])"
      ]
     },
     "execution_count": 126,
     "metadata": {},
     "output_type": "execute_result"
    }
   ],
   "source": [
    "# Looking at the change of average number of deaths caused by traffic accidents over time\n",
    "avg_deaths_1980 = np.mean(vehicle_1980[\"DEATHS\"])\n",
    "avg_deaths_1985 = np.mean(vehicle_1985[\"DEATHS\"])\n",
    "avg_deaths_1990 = np.mean(vehicle_1990[\"DEATHS\"])\n",
    "avg_deaths_1995 = np.mean(vehicle_1995[\"DEATHS\"])\n",
    "avg_deaths_2000 = np.mean(vehicle_2000[\"DEATHS\"])\n",
    "avg_deaths_2005 = np.mean(vehicle_2005[\"DEATHS\"])\n",
    "avg_deaths_2010 = np.mean(vehicle_2010[\"DEATHS\"])\n",
    "avg_deaths_2015 = np.mean(vehicle_2015[\"DEATHS\"])\n",
    "avg_deaths_2019 = np.mean(vehicle_2019[\"DEATHS\"])\n",
    "avg_deaths_ot = np.array([avg_deaths_1980, avg_deaths_1985, avg_deaths_1990, avg_deaths_1995, \n",
    "                           avg_deaths_2000, avg_deaths_2005, avg_deaths_2010, avg_deaths_2015, \n",
    "                           avg_deaths_2019])\n",
    "avg_deaths_ot"
   ]
  },
  {
   "cell_type": "code",
   "execution_count": 127,
   "metadata": {},
   "outputs": [
    {
     "data": {
      "text/plain": [
       "array([0.30725, 0.2839 , 0.2818 , 0.2266 , 0.2039 , 0.20595, 0.22145,\n",
       "       0.1897 , 0.16835])"
      ]
     },
     "execution_count": 127,
     "metadata": {},
     "output_type": "execute_result"
    }
   ],
   "source": [
    "# Looking at the change of average number of drunk drivers over time\n",
    "avg_drunk_1980 = np.mean(vehicle_1980[\"DR_DRINK\"])\n",
    "avg_drunk_1985 = np.mean(vehicle_1985[\"DR_DRINK\"])\n",
    "avg_drunk_1990 = np.mean(vehicle_1990[\"DR_DRINK\"])\n",
    "avg_drunk_1995 = np.mean(vehicle_1995[\"DR_DRINK\"])\n",
    "avg_drunk_2000 = np.mean(vehicle_2000[\"DR_DRINK\"])\n",
    "avg_drunk_2005 = np.mean(vehicle_2005[\"DR_DRINK\"])\n",
    "avg_drunk_2010 = np.mean(vehicle_2010[\"DR_DRINK\"])\n",
    "avg_drunk_2015 = np.mean(vehicle_2015[\"DR_DRINK\"])\n",
    "avg_drunk_2019 = np.mean(vehicle_2019[\"DR_DRINK\"])\n",
    "avg_drunk_ot = np.array([avg_drunk_1980, avg_drunk_1985, avg_drunk_1990, avg_drunk_1995, \n",
    "                           avg_drunk_2000, avg_drunk_2005, avg_drunk_2010, avg_drunk_2015, \n",
    "                           avg_drunk_2019])\n",
    "avg_drunk_ot"
   ]
  },
  {
   "cell_type": "code",
   "execution_count": 133,
   "metadata": {},
   "outputs": [
    {
     "data": {
      "text/plain": [
       "array([0.30725, 0.2839 , 0.2818 , 0.2266 , 0.2039 , 0.20595, 0.22145,\n",
       "       0.1897 , 0.16835])"
      ]
     },
     "execution_count": 133,
     "metadata": {},
     "output_type": "execute_result"
    }
   ],
   "source": [
    "# Looking at the change of violent charges\n",
    "avg_dwi_1980 = np.mean(vehicle_1980[\"PREV_DWI\"])\n",
    "avg_dwi_1985 = np.mean(vehicle_1985[\"PREV_DWI\"])\n",
    "avg_dwi_1990 = np.mean(vehicle_1990[\"PREV_DWI\"])\n",
    "avg_dwi_1995 = np.mean(vehicle_1995[\"PREV_DWI\"])\n",
    "avg_dwi_2000 = np.mean(vehicle_2000[\"PREV_DWI\"])\n",
    "avg_dwi_2005 = np.mean(vehicle_2005[\"PREV_DWI\"])\n",
    "avg_dwi_2010 = np.mean(vehicle_2010[\"PREV_DWI\"])\n",
    "avg_dwi_2015 = np.mean(vehicle_2015[\"PREV_DWI\"])\n",
    "avg_dwi_2019 = np.mean(vehicle_2019[\"PREV_DWI\"])\n",
    "avg_dwi_ot = np.array([avg_drunk_1980, avg_drunk_1985, avg_drunk_1990, avg_drunk_1995, \n",
    "                           avg_drunk_2000, avg_drunk_2005, avg_drunk_2010, avg_drunk_2015, \n",
    "                           avg_drunk_2019])\n",
    "avg_dwi_ot"
   ]
  },
  {
   "cell_type": "code",
   "execution_count": 135,
   "metadata": {},
   "outputs": [
    {
     "data": {
      "text/plain": [
       "array([ 3.76875   ,  4.8931    ,  5.00685   ,  5.1000653 ,  8.81152069,\n",
       "        9.75512048,  9.7403909 , 16.8016    , 17.9671    ])"
      ]
     },
     "execution_count": 135,
     "metadata": {},
     "output_type": "execute_result"
    }
   ],
   "source": [
    "# Looking at the change of violent charges\n",
    "avg_acc_1980 = np.mean(vehicle_1980[\"PREV_ACC\"])\n",
    "avg_acc_1985 = np.mean(vehicle_1985[\"PREV_ACC\"])\n",
    "avg_acc_1990 = np.mean(vehicle_1990[\"PREV_ACC\"])\n",
    "avg_acc_1995 = np.mean(vehicle_1995[\"PREV_ACC\"])\n",
    "avg_acc_2000 = np.mean(vehicle_2000[\"PREV_ACC\"])\n",
    "avg_acc_2005 = np.mean(vehicle_2005[\"PREV_ACC\"])\n",
    "avg_acc_2010 = np.mean(vehicle_2010[\"PREV_ACC\"])\n",
    "avg_acc_2015 = np.mean(vehicle_2015[\"PREV_ACC\"])\n",
    "avg_acc_2019 = np.mean(vehicle_2019[\"PREV_ACC\"])\n",
    "avg_acc_ot = np.array([avg_acc_1980, avg_acc_1985, avg_acc_1990, avg_acc_1995, \n",
    "                           avg_acc_2000, avg_acc_2005, avg_acc_2010, avg_acc_2015, \n",
    "                           avg_acc_2019])\n",
    "avg_acc_ot"
   ]
  },
  {
   "cell_type": "code",
   "execution_count": 169,
   "metadata": {},
   "outputs": [
    {
     "data": {
      "text/html": [
       "<div>\n",
       "<style scoped>\n",
       "    .dataframe tbody tr th:only-of-type {\n",
       "        vertical-align: middle;\n",
       "    }\n",
       "\n",
       "    .dataframe tbody tr th {\n",
       "        vertical-align: top;\n",
       "    }\n",
       "\n",
       "    .dataframe thead th {\n",
       "        text-align: right;\n",
       "    }\n",
       "</style>\n",
       "<table border=\"1\" class=\"dataframe\">\n",
       "  <thead>\n",
       "    <tr style=\"text-align: right;\">\n",
       "      <th></th>\n",
       "      <th>Deaths on average</th>\n",
       "      <th>Drunk driver avg</th>\n",
       "      <th>previous accident avg</th>\n",
       "      <th>Previous Driving While Inoxicated</th>\n",
       "    </tr>\n",
       "  </thead>\n",
       "  <tbody>\n",
       "    <tr>\n",
       "      <th>0</th>\n",
       "      <td>0.65995</td>\n",
       "      <td>0.30725</td>\n",
       "      <td>3.768750</td>\n",
       "      <td>0.30725</td>\n",
       "    </tr>\n",
       "    <tr>\n",
       "      <th>1</th>\n",
       "      <td>0.61990</td>\n",
       "      <td>0.28390</td>\n",
       "      <td>4.893100</td>\n",
       "      <td>0.28390</td>\n",
       "    </tr>\n",
       "    <tr>\n",
       "      <th>2</th>\n",
       "      <td>0.62170</td>\n",
       "      <td>0.28180</td>\n",
       "      <td>5.006850</td>\n",
       "      <td>0.28180</td>\n",
       "    </tr>\n",
       "    <tr>\n",
       "      <th>3</th>\n",
       "      <td>0.62405</td>\n",
       "      <td>0.22660</td>\n",
       "      <td>5.100065</td>\n",
       "      <td>0.22660</td>\n",
       "    </tr>\n",
       "    <tr>\n",
       "      <th>4</th>\n",
       "      <td>0.62970</td>\n",
       "      <td>0.20390</td>\n",
       "      <td>8.811521</td>\n",
       "      <td>0.20390</td>\n",
       "    </tr>\n",
       "    <tr>\n",
       "      <th>5</th>\n",
       "      <td>0.62800</td>\n",
       "      <td>0.20595</td>\n",
       "      <td>9.755120</td>\n",
       "      <td>0.20595</td>\n",
       "    </tr>\n",
       "    <tr>\n",
       "      <th>6</th>\n",
       "      <td>0.62670</td>\n",
       "      <td>0.22145</td>\n",
       "      <td>9.740391</td>\n",
       "      <td>0.22145</td>\n",
       "    </tr>\n",
       "    <tr>\n",
       "      <th>7</th>\n",
       "      <td>0.58255</td>\n",
       "      <td>0.18970</td>\n",
       "      <td>16.801600</td>\n",
       "      <td>0.18970</td>\n",
       "    </tr>\n",
       "    <tr>\n",
       "      <th>8</th>\n",
       "      <td>0.56620</td>\n",
       "      <td>0.16835</td>\n",
       "      <td>17.967100</td>\n",
       "      <td>0.16835</td>\n",
       "    </tr>\n",
       "  </tbody>\n",
       "</table>\n",
       "</div>"
      ],
      "text/plain": [
       "   Deaths on average  Drunk driver avg  previous accident avg  \\\n",
       "0            0.65995           0.30725               3.768750   \n",
       "1            0.61990           0.28390               4.893100   \n",
       "2            0.62170           0.28180               5.006850   \n",
       "3            0.62405           0.22660               5.100065   \n",
       "4            0.62970           0.20390               8.811521   \n",
       "5            0.62800           0.20595               9.755120   \n",
       "6            0.62670           0.22145               9.740391   \n",
       "7            0.58255           0.18970              16.801600   \n",
       "8            0.56620           0.16835              17.967100   \n",
       "\n",
       "   Previous Driving While Inoxicated  \n",
       "0                            0.30725  \n",
       "1                            0.28390  \n",
       "2                            0.28180  \n",
       "3                            0.22660  \n",
       "4                            0.20390  \n",
       "5                            0.20595  \n",
       "6                            0.22145  \n",
       "7                            0.18970  \n",
       "8                            0.16835  "
      ]
     },
     "execution_count": 169,
     "metadata": {},
     "output_type": "execute_result"
    }
   ],
   "source": [
    "results = pd.DataFrame(\n",
    "     {\n",
    "         \"Deaths on average\": avg_deaths_ot,\n",
    "         \"Drunk driver avg\": avg_drunk_ot,\n",
    "         \"previous accident avg\": avg_acc_ot,\n",
    "         \"Previous Driving While Inoxicated\": avg_dwi_ot,\n",
    "     },\n",
    "    \n",
    " )\n",
    "\n",
    "deaths_on_average = 0.617639\n",
    "drunk_driver_avg = 0.232100\n",
    "previous_accident_avg = 9.093833\n",
    "previous_driving_while_intoxicated = 0.232100\n",
    "\n",
    "results"
   ]
  },
  {
   "cell_type": "code",
   "execution_count": 144,
   "metadata": {},
   "outputs": [
    {
     "data": {
      "text/plain": [
       "<statsmodels.regression.linear_model.RegressionResultsWrapper at 0x7fcfc6b500d0>"
      ]
     },
     "execution_count": 144,
     "metadata": {},
     "output_type": "execute_result"
    }
   ],
   "source": [
    "# Multiple Linear Regression Calculation\n",
    "# Define the explanatory and response variables\n",
    "X1 = results[[\"Drunk driver avg\", \"previous accident avg\", \"Previous Driving While Inoxicated\"]]\n",
    "X1 = sm.add_constant(X1)\n",
    "y1 = results[\"Deaths on average\"]\n",
    "\n",
    "# Apply the regression equation\n",
    "mlr = sm.OLS(y1, X1).fit()\n",
    "mlr"
   ]
  },
  {
   "cell_type": "code",
   "execution_count": 145,
   "metadata": {},
   "outputs": [
    {
     "name": "stdout",
     "output_type": "stream",
     "text": [
      "0.02\n",
      "0.752\n",
      "0.752\n",
      "                            OLS Regression Results                            \n",
      "==============================================================================\n",
      "Dep. Variable:      Deaths on average   R-squared:                       0.752\n",
      "Model:                            OLS   Adj. R-squared:                  0.669\n",
      "Method:                 Least Squares   F-statistic:                     9.081\n",
      "Date:                Sun, 13 Feb 2022   Prob (F-statistic):             0.0153\n",
      "Time:                        21:34:42   Log-Likelihood:                 26.359\n",
      "No. Observations:                   9   AIC:                            -46.72\n",
      "Df Residuals:                       6   BIC:                            -46.13\n",
      "Df Model:                           2                                         \n",
      "Covariance Type:            nonrobust                                         \n",
      "=====================================================================================================\n",
      "                                        coef    std err          t      P>|t|      [0.025      0.975]\n",
      "-----------------------------------------------------------------------------------------------------\n",
      "const                                 0.6764      0.070      9.716      0.000       0.506       0.847\n",
      "Drunk driver avg                     -0.0284      0.113     -0.250      0.811      -0.305       0.249\n",
      "previous accident avg                -0.0050      0.002     -2.415      0.052      -0.010    6.63e-05\n",
      "Previous Driving While Inoxicated    -0.0284      0.113     -0.250      0.811      -0.305       0.249\n",
      "==============================================================================\n",
      "Omnibus:                        3.382   Durbin-Watson:                   1.374\n",
      "Prob(Omnibus):                  0.184   Jarque-Bera (JB):                0.978\n",
      "Skew:                           0.083   Prob(JB):                        0.613\n",
      "Kurtosis:                       1.394   Cond. No.                     7.25e+18\n",
      "==============================================================================\n",
      "\n",
      "Notes:\n",
      "[1] Standard Errors assume that the covariance matrix of the errors is correctly specified.\n",
      "[2] The smallest eigenvalue is 1.84e-35. This might indicate that there are\n",
      "strong multicollinearity problems or that the design matrix is singular.\n"
     ]
    },
    {
     "name": "stderr",
     "output_type": "stream",
     "text": [
      "/Users/Maajid/opt/anaconda3/lib/python3.8/site-packages/scipy/stats/stats.py:1603: UserWarning: kurtosistest only valid for n>=20 ... continuing anyway, n=9\n",
      "  warnings.warn(\"kurtosistest only valid for n>=20 ... continuing \"\n"
     ]
    }
   ],
   "source": [
    "# Regression standard error\n",
    "s = np.sqrt(mlr.mse_resid)\n",
    "s = round(s, 2)\n",
    "print(s)\n",
    "\n",
    "# Coefficient of determination\n",
    "r2 = mlr.ess/mlr.centered_tss\n",
    "r2 = round(r2, 3)\n",
    "print(r2)\n",
    "\n",
    "r2 = mlr.rsquared\n",
    "r2 = round(r2, 3)\n",
    "print(r2)\n",
    "\n",
    "# ANOVA F test\n",
    "mlr_output = mlr.summary()\n",
    "print(mlr_output)"
   ]
  },
  {
   "cell_type": "code",
   "execution_count": 237,
   "metadata": {},
   "outputs": [
    {
     "data": {
      "image/png": "[encoded data removed]",
      "text/plain": [
       "<Figure size 432x288 with 1 Axes>"
      ]
     },
     "metadata": {
      "needs_background": "light"
     },
     "output_type": "display_data"
    }
   ],
   "source": [
    "# Creating Scatterplots between each explanatory variable and response variable\n",
    "sns.scatterplot(x=\"Drunk driver avg\", y=\"Deaths on average\", data=results, color='green')\n",
    "plt.title(\"Driver Drunk at Time of Accident on Death Count avg\")\n",
    "plt.show()"
   ]
  },
  {
   "cell_type": "code",
   "execution_count": 238,
   "metadata": {},
   "outputs": [
    {
     "data": {
      "text/plain": [
       "Text(0.5, 1.0, 'Driver With Previous Accdient on Death Count avg')"
      ]
     },
     "execution_count": 238,
     "metadata": {},
     "output_type": "execute_result"
    },
    {
     "data": {
      "image/png": "[encoded data removed]",
      "text/plain": [
       "<Figure size 432x288 with 1 Axes>"
      ]
     },
     "metadata": {
      "needs_background": "light"
     },
     "output_type": "display_data"
    }
   ],
   "source": [
    "sns.scatterplot(x=\"previous accident avg\", y=\"Deaths on average\", data=results, color='blue')\n",
    "plt.title(\"Driver With Previous Accdient on Death Count avg\")\n"
   ]
  },
  {
   "cell_type": "code",
   "execution_count": 239,
   "metadata": {
    "scrolled": true
   },
   "outputs": [
    {
     "data": {
      "text/plain": [
       "Text(0.5, 1.0, 'Driver With Previous DWI on Death Count avg')"
      ]
     },
     "execution_count": 239,
     "metadata": {},
     "output_type": "execute_result"
    },
    {
     "data": {
      "image/png": "[encoded data removed]",
      "text/plain": [
       "<Figure size 432x288 with 1 Axes>"
      ]
     },
     "metadata": {
      "needs_background": "light"
     },
     "output_type": "display_data"
    }
   ],
   "source": [
    "sns.scatterplot(x=\"Previous Driving While Inoxicated\", y=\"Deaths on average\", data=results, color='orange')\n",
    "plt.title(\"Driver With Previous DWI on Death Count avg\")"
   ]
  },
  {
   "cell_type": "code",
   "execution_count": 172,
   "metadata": {},
   "outputs": [
    {
     "data": {
      "image/png": "[encoded data removed]",
      "text/plain": [
       "<Figure size 432x288 with 1 Axes>"
      ]
     },
     "metadata": {},
     "output_type": "display_data"
    }
   ],
   "source": [
    "\n",
    "y = np.array([ drunk_driver_avg, previous_accident_avg, previous_driving_while_intoxicated])\n",
    "mylabels = [ \"Driver Was Drunk\", \"Previous Accident History\", \"Prev Intoxicated driving\"]\n",
    "plt.pie(y, labels = mylabels)\n",
    "plt.show() "
   ]
  },
  {
   "cell_type": "code",
   "execution_count": 226,
   "metadata": {},
   "outputs": [
    {
     "data": {
      "text/plain": [
       "array([75.70095   , 74.5187    , 75.2801    , 75.327     , 76.87915   ,\n",
       "       50.53951077, 43.97977988, 44.005512  ])"
      ]
     },
     "execution_count": 226,
     "metadata": {},
     "output_type": "execute_result"
    }
   ],
   "source": [
    "#Data from 1980 was not provided so it will not be inlcuded in this part of the analysis\n",
    "vehicle_2019 = vehicle_2019[vehicle_2019.TRAV_SP != 999]\n",
    "vehicle_2019 = vehicle_2019[vehicle_2019.TRAV_SP != 998]\n",
    "vehicle_2019 = vehicle_2019[vehicle_2019.TRAV_SP != 997]\n",
    "\n",
    "vehicle_2015 = vehicle_2015[vehicle_2015.TRAV_SP != 999]\n",
    "vehicle_2015 = vehicle_2015[vehicle_2015.TRAV_SP != 998]\n",
    "vehicle_2015 = vehicle_2015[vehicle_2015.TRAV_SP != 997]\n",
    "\n",
    "vehicle_2010 = vehicle_2010[vehicle_2010.TRAV_SP != 999]\n",
    "vehicle_2010 = vehicle_2010[vehicle_2010.TRAV_SP != 998]\n",
    "vehicle_2010 = vehicle_2010[vehicle_2010.TRAV_SP != 997]\n",
    "\n",
    "vehicle_2005 = vehicle_2005[vehicle_2005.TRAV_SP != 999]\n",
    "vehicle_2005 = vehicle_2005[vehicle_2005.TRAV_SP != 998]\n",
    "vehicle_2005 = vehicle_2005[vehicle_2005.TRAV_SP != 997]\n",
    "\n",
    "vehicle_2000 = vehicle_2000[vehicle_2000.TRAV_SP != 999]\n",
    "vehicle_2000 = vehicle_2000[vehicle_2000.TRAV_SP != 998]\n",
    "vehicle_2000 = vehicle_2000[vehicle_2000.TRAV_SP != 997]\n",
    "\n",
    "vehicle_1995 = vehicle_1995[vehicle_1995.TRAV_SP != 999]\n",
    "vehicle_1995 = vehicle_1995[vehicle_1995.TRAV_SP != 998]\n",
    "vehicle_1995 = vehicle_1995[vehicle_1995.TRAV_SP != 997]\n",
    "\n",
    "vehicle_1990 = vehicle_1990[vehicle_1990.TRAV_SP != 999]\n",
    "vehicle_1990 = vehicle_1990[vehicle_1990.TRAV_SP != 998]\n",
    "vehicle_1990 = vehicle_1990[vehicle_1990.TRAV_SP != 997]\n",
    "\n",
    "vehicle_1985 = vehicle_1985[vehicle_1985.TRAV_SP != 999]\n",
    "vehicle_1985 = vehicle_1985[vehicle_1985.TRAV_SP != 998]\n",
    "vehicle_1985 = vehicle_1985[vehicle_1985.TRAV_SP != 997]\n",
    "\n",
    "\n",
    "trav_sp_avg_1985 = np.mean(vehicle_1985['TRAV_SP'])\n",
    "trav_sp_avg_1990 = np.mean(vehicle_1990['TRAV_SP'])\n",
    "trav_sp_avg_1995 = np.mean(vehicle_1995['TRAV_SP'])\n",
    "trav_sp_avg_2000 = np.mean(vehicle_2000['TRAV_SP'])\n",
    "trav_sp_avg_2005 = np.mean(vehicle_2005['TRAV_SP'])\n",
    "trav_sp_avg_2010 = np.mean(vehicle_2010['TRAV_SP'])\n",
    "trav_sp_avg_2015 = np.mean(vehicle_2015['TRAV_SP'])\n",
    "trav_sp_avg_2019 = np.mean(vehicle_2019['TRAV_SP'])\n",
    "\n",
    "trav_sp_avg_ot = np.array([trav_sp_avg_1985, trav_sp_avg_1990, trav_sp_avg_1995, trav_sp_avg_2000,\n",
    "                          trav_sp_avg_2005, trav_sp_avg_2010, trav_sp_avg_2015, trav_sp_avg_2019])\n",
    "trav_sp_avg_ot\n"
   ]
  },
  {
   "cell_type": "code",
   "execution_count": 230,
   "metadata": {},
   "outputs": [
    {
     "data": {
      "text/plain": [
       "array([0.6199 , 0.6217 , 0.62405, 0.6297 , 0.628  , 0.6267 , 0.58255,\n",
       "       0.5662 ])"
      ]
     },
     "execution_count": 230,
     "metadata": {},
     "output_type": "execute_result"
    }
   ],
   "source": [
    "avg_deaths_ex = np.array([avg_deaths_1985, avg_deaths_1990, avg_deaths_1995, \n",
    "                           avg_deaths_2000, avg_deaths_2005, avg_deaths_2010, avg_deaths_2015, \n",
    "                           avg_deaths_2019])\n",
    "avg_deaths_ex"
   ]
  },
  {
   "cell_type": "code",
   "execution_count": 232,
   "metadata": {},
   "outputs": [
    {
     "data": {
      "text/plain": [
       "Text(0.5, 0, 'Travel Speed at the time of the accident (mph)')"
      ]
     },
     "execution_count": 232,
     "metadata": {},
     "output_type": "execute_result"
    },
    {
     "data": {
      "image/png": "[encoded data removed]",
      "text/plain": [
       "<Figure size 432x288 with 1 Axes>"
      ]
     },
     "metadata": {
      "needs_background": "light"
     },
     "output_type": "display_data"
    }
   ],
   "source": [
    "sns.scatterplot(x=trav_sp_avg_ot, y=avg_deaths_ex, color='maroon')\n",
    "plt.title(\"Travel Speed on Number of Deaths\")\n",
    "plt.ylabel(\"Average Death Rate\")\n",
    "plt.xlabel(\"Travel Speed at the time of the accident (mph)\")"
   ]
  },
  {
   "cell_type": "markdown",
   "metadata": {},
   "source": [
    "**Travel speed on Number of Deaths Interpretation**:\n",
    "This graph shows that there is a high correlation between higher driving speeds and a higher average death count per year. "
   ]
  },
  {
   "cell_type": "code",
   "execution_count": 233,
   "metadata": {},
   "outputs": [
    {
     "data": {
      "text/plain": [
       "array([12398, 12434, 12481, 12594, 12560, 12534, 11651, 11324])"
      ]
     },
     "execution_count": 233,
     "metadata": {},
     "output_type": "execute_result"
    }
   ],
   "source": [
    "total_deaths_ex = np.array([ total_deaths_1985, total_deaths_1990, total_deaths_1995, \n",
    "                           total_deaths_2000, total_deaths_2005, total_deaths_2010, total_deaths_2015, \n",
    "                           total_deaths_2019])\n",
    "total_deaths_ex"
   ]
  },
  {
   "cell_type": "code",
   "execution_count": 235,
   "metadata": {},
   "outputs": [
    {
     "data": {
      "image/png": "[encoded data removed]",
      "text/plain": [
       "<Figure size 432x288 with 1 Axes>"
      ]
     },
     "metadata": {
      "needs_background": "light"
     },
     "output_type": "display_data"
    }
   ],
   "source": [
    "sns.scatterplot(x=trav_sp_avg_ot, y=total_deaths_ex, color='cyan')\n",
    "plt.title(\"Travel Speed on Number of Deaths\")\n",
    "plt.ylabel(\"Total Death Rate\")\n",
    "plt.xlabel(\"Travel Speed at the time of the accident (mph)\")\n",
    "plt.show()"
   ]
  }
 ],
 "metadata": {
  "kernelspec": {
   "display_name": "Python 3",
   "language": "python",
   "name": "python3"
  },
  "language_info": {
   "codemirror_mode": {
    "name": "ipython",
    "version": 3
   },
   "file_extension": ".py",
   "mimetype": "text/x-python",
   "name": "python",
   "nbconvert_exporter": "python",
   "pygments_lexer": "ipython3",
   "version": "3.8.5"
  }
 },
 "nbformat": 4,
 "nbformat_minor": 4
}
